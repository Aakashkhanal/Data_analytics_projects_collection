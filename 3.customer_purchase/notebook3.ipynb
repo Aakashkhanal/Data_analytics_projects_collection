{
 "cells": [
  {
   "cell_type": "markdown",
   "id": "c95286fe",
   "metadata": {},
   "source": [
    "### Will This Customer Purchase Your Product?\n",
    "\n",
    "Analyze online shopping habits: returning vs. new customers using statistics & probability techniques!"
   ]
  },
  {
   "cell_type": "code",
   "execution_count": null,
   "id": "e7bc0579",
   "metadata": {},
   "outputs": [],
   "source": []
  },
  {
   "cell_type": "code",
   "execution_count": null,
   "id": "cbdaaf7b",
   "metadata": {},
   "outputs": [],
   "source": []
  },
  {
   "cell_type": "code",
   "execution_count": null,
   "id": "19de4998",
   "metadata": {},
   "outputs": [],
   "source": []
  },
  {
   "cell_type": "code",
   "execution_count": null,
   "id": "0615a749",
   "metadata": {},
   "outputs": [],
   "source": []
  }
 ],
 "metadata": {
  "language_info": {
   "name": "python"
  }
 },
 "nbformat": 4,
 "nbformat_minor": 5
}
