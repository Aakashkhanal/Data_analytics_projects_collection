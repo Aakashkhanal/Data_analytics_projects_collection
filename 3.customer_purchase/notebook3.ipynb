{
 "cells": [
  {
   "cell_type": "markdown",
   "id": "c95286fe",
   "metadata": {},
   "source": [
    "### Will This Customer Purchase Your Product?\n",
    "\n",
    "Analyze online shopping habits: returning vs. new customers using statistics & probability techniques!"
   ]
  },
  {
   "cell_type": "code",
   "execution_count": null,
   "id": "cbdaaf7b",
   "metadata": {},
   "outputs": [],
   "source": [
    "#  # configuring the path of kaggle.json file\n",
    "# !mkdir -p ~/.kaggle\n",
    "# !cp kaggle.json ~/.kaggle/\n",
    "# !chmod 600 ~/.kaggle/kaggle.json "
   ]
  },
  {
   "cell_type": "code",
   "execution_count": 2,
   "id": "19de4998",
   "metadata": {},
   "outputs": [],
   "source": [
    "# #!/bin/bash\n",
    "# !kaggle datasets download abdelazizsami/will-this-customer-purchase-your-product"
   ]
  },
  {
   "cell_type": "code",
   "execution_count": 3,
   "id": "0615a749",
   "metadata": {},
   "outputs": [],
   "source": [
    "\n",
    "# # extracting the compressed dataset\n",
    "\n",
    "# from zipfile import ZipFile\n",
    "# dataset = 'will-this-customer-purchase-your-product.zip'\n",
    "\n",
    "# with ZipFile(dataset,'r') as zip:\n",
    "#     zip.extractall()\n",
    "#     print(\"The dataset is extracted\")"
   ]
  },
  {
   "cell_type": "code",
   "execution_count": 4,
   "id": "4e154c6b",
   "metadata": {},
   "outputs": [
    {
     "data": {
      "text/html": [
       "<div>\n",
       "<style scoped>\n",
       "    .dataframe tbody tr th:only-of-type {\n",
       "        vertical-align: middle;\n",
       "    }\n",
       "\n",
       "    .dataframe tbody tr th {\n",
       "        vertical-align: top;\n",
       "    }\n",
       "\n",
       "    .dataframe thead th {\n",
       "        text-align: right;\n",
       "    }\n",
       "</style>\n",
       "<table border=\"1\" class=\"dataframe\">\n",
       "  <thead>\n",
       "    <tr style=\"text-align: right;\">\n",
       "      <th></th>\n",
       "      <th>SessionID</th>\n",
       "      <th>Administrative</th>\n",
       "      <th>Administrative_Duration</th>\n",
       "      <th>Informational</th>\n",
       "      <th>Informational_Duration</th>\n",
       "      <th>ProductRelated</th>\n",
       "      <th>ProductRelated_Duration</th>\n",
       "      <th>BounceRates</th>\n",
       "      <th>ExitRates</th>\n",
       "      <th>PageValues</th>\n",
       "      <th>SpecialDay</th>\n",
       "      <th>Weekend</th>\n",
       "      <th>Month</th>\n",
       "      <th>CustomerType</th>\n",
       "      <th>Purchase</th>\n",
       "    </tr>\n",
       "  </thead>\n",
       "  <tbody>\n",
       "    <tr>\n",
       "      <th>0</th>\n",
       "      <td>1</td>\n",
       "      <td>0</td>\n",
       "      <td>0.0</td>\n",
       "      <td>0</td>\n",
       "      <td>0.0</td>\n",
       "      <td>1</td>\n",
       "      <td>0.000000</td>\n",
       "      <td>0.20</td>\n",
       "      <td>0.20</td>\n",
       "      <td>0.0</td>\n",
       "      <td>0.0</td>\n",
       "      <td>False</td>\n",
       "      <td>Feb</td>\n",
       "      <td>Returning_Customer</td>\n",
       "      <td>0.0</td>\n",
       "    </tr>\n",
       "    <tr>\n",
       "      <th>1</th>\n",
       "      <td>2</td>\n",
       "      <td>0</td>\n",
       "      <td>0.0</td>\n",
       "      <td>0</td>\n",
       "      <td>0.0</td>\n",
       "      <td>2</td>\n",
       "      <td>64.000000</td>\n",
       "      <td>0.00</td>\n",
       "      <td>0.10</td>\n",
       "      <td>0.0</td>\n",
       "      <td>0.0</td>\n",
       "      <td>False</td>\n",
       "      <td>Feb</td>\n",
       "      <td>Returning_Customer</td>\n",
       "      <td>0.0</td>\n",
       "    </tr>\n",
       "    <tr>\n",
       "      <th>2</th>\n",
       "      <td>3</td>\n",
       "      <td>0</td>\n",
       "      <td>0.0</td>\n",
       "      <td>0</td>\n",
       "      <td>0.0</td>\n",
       "      <td>1</td>\n",
       "      <td>0.000000</td>\n",
       "      <td>0.20</td>\n",
       "      <td>0.20</td>\n",
       "      <td>0.0</td>\n",
       "      <td>0.0</td>\n",
       "      <td>False</td>\n",
       "      <td>Feb</td>\n",
       "      <td>Returning_Customer</td>\n",
       "      <td>0.0</td>\n",
       "    </tr>\n",
       "    <tr>\n",
       "      <th>3</th>\n",
       "      <td>4</td>\n",
       "      <td>0</td>\n",
       "      <td>0.0</td>\n",
       "      <td>0</td>\n",
       "      <td>0.0</td>\n",
       "      <td>2</td>\n",
       "      <td>2.666667</td>\n",
       "      <td>0.05</td>\n",
       "      <td>0.14</td>\n",
       "      <td>0.0</td>\n",
       "      <td>0.0</td>\n",
       "      <td>False</td>\n",
       "      <td>Feb</td>\n",
       "      <td>Returning_Customer</td>\n",
       "      <td>0.0</td>\n",
       "    </tr>\n",
       "    <tr>\n",
       "      <th>4</th>\n",
       "      <td>5</td>\n",
       "      <td>0</td>\n",
       "      <td>0.0</td>\n",
       "      <td>0</td>\n",
       "      <td>0.0</td>\n",
       "      <td>10</td>\n",
       "      <td>627.500000</td>\n",
       "      <td>0.02</td>\n",
       "      <td>0.05</td>\n",
       "      <td>0.0</td>\n",
       "      <td>0.0</td>\n",
       "      <td>True</td>\n",
       "      <td>Feb</td>\n",
       "      <td>Returning_Customer</td>\n",
       "      <td>0.0</td>\n",
       "    </tr>\n",
       "  </tbody>\n",
       "</table>\n",
       "</div>"
      ],
      "text/plain": [
       "   SessionID  Administrative  Administrative_Duration  Informational  \\\n",
       "0          1               0                      0.0              0   \n",
       "1          2               0                      0.0              0   \n",
       "2          3               0                      0.0              0   \n",
       "3          4               0                      0.0              0   \n",
       "4          5               0                      0.0              0   \n",
       "\n",
       "   Informational_Duration  ProductRelated  ProductRelated_Duration  \\\n",
       "0                     0.0               1                 0.000000   \n",
       "1                     0.0               2                64.000000   \n",
       "2                     0.0               1                 0.000000   \n",
       "3                     0.0               2                 2.666667   \n",
       "4                     0.0              10               627.500000   \n",
       "\n",
       "   BounceRates  ExitRates  PageValues  SpecialDay  Weekend Month  \\\n",
       "0         0.20       0.20         0.0         0.0    False   Feb   \n",
       "1         0.00       0.10         0.0         0.0    False   Feb   \n",
       "2         0.20       0.20         0.0         0.0    False   Feb   \n",
       "3         0.05       0.14         0.0         0.0    False   Feb   \n",
       "4         0.02       0.05         0.0         0.0     True   Feb   \n",
       "\n",
       "         CustomerType  Purchase  \n",
       "0  Returning_Customer       0.0  \n",
       "1  Returning_Customer       0.0  \n",
       "2  Returning_Customer       0.0  \n",
       "3  Returning_Customer       0.0  \n",
       "4  Returning_Customer       0.0  "
      ]
     },
     "execution_count": 4,
     "metadata": {},
     "output_type": "execute_result"
    }
   ],
   "source": [
    "# Import required libraries\n",
    "import pandas as pd\n",
    "import numpy as np\n",
    "import matplotlib.pyplot as plt\n",
    "from scipy import stats\n",
    "\n",
    "# Load and view your data\n",
    "shopping_data = pd.read_csv(\"online_shopping_session_data.csv\")\n",
    "shopping_data.head()"
   ]
  },
  {
   "cell_type": "code",
   "execution_count": 5,
   "id": "f0928c11",
   "metadata": {},
   "outputs": [
    {
     "name": "stdout",
     "output_type": "stream",
     "text": [
      "<class 'pandas.core.frame.DataFrame'>\n",
      "RangeIndex: 12055 entries, 0 to 12054\n",
      "Data columns (total 15 columns):\n",
      " #   Column                   Non-Null Count  Dtype  \n",
      "---  ------                   --------------  -----  \n",
      " 0   SessionID                12055 non-null  int64  \n",
      " 1   Administrative           12055 non-null  int64  \n",
      " 2   Administrative_Duration  12055 non-null  float64\n",
      " 3   Informational            12055 non-null  int64  \n",
      " 4   Informational_Duration   12055 non-null  float64\n",
      " 5   ProductRelated           12055 non-null  int64  \n",
      " 6   ProductRelated_Duration  12055 non-null  float64\n",
      " 7   BounceRates              12055 non-null  float64\n",
      " 8   ExitRates                12055 non-null  float64\n",
      " 9   PageValues               12055 non-null  float64\n",
      " 10  SpecialDay               12055 non-null  float64\n",
      " 11  Weekend                  12055 non-null  bool   \n",
      " 12  Month                    12055 non-null  object \n",
      " 13  CustomerType             12054 non-null  object \n",
      " 14  Purchase                 12054 non-null  float64\n",
      "dtypes: bool(1), float64(8), int64(4), object(2)\n",
      "memory usage: 1.3+ MB\n"
     ]
    }
   ],
   "source": [
    "shopping_data.info()"
   ]
  },
  {
   "cell_type": "code",
   "execution_count": 6,
   "id": "700a1ced",
   "metadata": {},
   "outputs": [],
   "source": [
    "shopping_data.dropna(inplace=True)"
   ]
  },
  {
   "cell_type": "code",
   "execution_count": 7,
   "id": "f1fce7a9",
   "metadata": {},
   "outputs": [
    {
     "name": "stdout",
     "output_type": "stream",
     "text": [
      "<class 'pandas.core.frame.DataFrame'>\n",
      "Index: 12054 entries, 0 to 12053\n",
      "Data columns (total 15 columns):\n",
      " #   Column                   Non-Null Count  Dtype  \n",
      "---  ------                   --------------  -----  \n",
      " 0   SessionID                12054 non-null  int64  \n",
      " 1   Administrative           12054 non-null  int64  \n",
      " 2   Administrative_Duration  12054 non-null  float64\n",
      " 3   Informational            12054 non-null  int64  \n",
      " 4   Informational_Duration   12054 non-null  float64\n",
      " 5   ProductRelated           12054 non-null  int64  \n",
      " 6   ProductRelated_Duration  12054 non-null  float64\n",
      " 7   BounceRates              12054 non-null  float64\n",
      " 8   ExitRates                12054 non-null  float64\n",
      " 9   PageValues               12054 non-null  float64\n",
      " 10  SpecialDay               12054 non-null  float64\n",
      " 11  Weekend                  12054 non-null  bool   \n",
      " 12  Month                    12054 non-null  object \n",
      " 13  CustomerType             12054 non-null  object \n",
      " 14  Purchase                 12054 non-null  float64\n",
      "dtypes: bool(1), float64(8), int64(4), object(2)\n",
      "memory usage: 1.4+ MB\n"
     ]
    }
   ],
   "source": [
    "shopping_data.info()"
   ]
  },
  {
   "cell_type": "markdown",
   "id": "ea10a93a",
   "metadata": {},
   "source": [
    "1. What are the purchase rates for online shopping sessions by customer type for November and December? Store the result in a dictionary called purchase_rates in the format below using the exact names for keys.\n",
    "\n",
    "\n",
    "   purchase_rates = {\"Returning_Customer\": 0.254, \"New_Customer\": 0.276}"
   ]
  },
  {
   "cell_type": "code",
   "execution_count": 8,
   "id": "c8649c39",
   "metadata": {},
   "outputs": [
    {
     "name": "stdout",
     "output_type": "stream",
     "text": [
      "['Feb' 'Mar' 'May' 'Oct' 'June' 'Jul' 'Aug' 'Nov' 'Sep' 'Dec']\n"
     ]
    }
   ],
   "source": [
    "print(shopping_data['Month'].unique())"
   ]
  },
  {
   "cell_type": "code",
   "execution_count": 9,
   "id": "4a8127f2",
   "metadata": {},
   "outputs": [
    {
     "data": {
      "text/html": [
       "<div>\n",
       "<style scoped>\n",
       "    .dataframe tbody tr th:only-of-type {\n",
       "        vertical-align: middle;\n",
       "    }\n",
       "\n",
       "    .dataframe tbody tr th {\n",
       "        vertical-align: top;\n",
       "    }\n",
       "\n",
       "    .dataframe thead th {\n",
       "        text-align: right;\n",
       "    }\n",
       "</style>\n",
       "<table border=\"1\" class=\"dataframe\">\n",
       "  <thead>\n",
       "    <tr style=\"text-align: right;\">\n",
       "      <th></th>\n",
       "      <th>SessionID</th>\n",
       "      <th>Administrative</th>\n",
       "      <th>Administrative_Duration</th>\n",
       "      <th>Informational</th>\n",
       "      <th>Informational_Duration</th>\n",
       "      <th>ProductRelated</th>\n",
       "      <th>ProductRelated_Duration</th>\n",
       "      <th>BounceRates</th>\n",
       "      <th>ExitRates</th>\n",
       "      <th>PageValues</th>\n",
       "      <th>SpecialDay</th>\n",
       "      <th>Weekend</th>\n",
       "      <th>Month</th>\n",
       "      <th>CustomerType</th>\n",
       "      <th>Purchase</th>\n",
       "    </tr>\n",
       "  </thead>\n",
       "  <tbody>\n",
       "    <tr>\n",
       "      <th>5463</th>\n",
       "      <td>5464</td>\n",
       "      <td>1</td>\n",
       "      <td>39.2</td>\n",
       "      <td>2</td>\n",
       "      <td>120.8</td>\n",
       "      <td>7</td>\n",
       "      <td>80.500000</td>\n",
       "      <td>0.000000</td>\n",
       "      <td>0.010000</td>\n",
       "      <td>0.000000</td>\n",
       "      <td>0.0</td>\n",
       "      <td>True</td>\n",
       "      <td>Nov</td>\n",
       "      <td>New_Customer</td>\n",
       "      <td>0.0</td>\n",
       "    </tr>\n",
       "    <tr>\n",
       "      <th>5464</th>\n",
       "      <td>5465</td>\n",
       "      <td>3</td>\n",
       "      <td>89.6</td>\n",
       "      <td>0</td>\n",
       "      <td>0.0</td>\n",
       "      <td>57</td>\n",
       "      <td>1721.906667</td>\n",
       "      <td>0.000000</td>\n",
       "      <td>0.005932</td>\n",
       "      <td>204.007949</td>\n",
       "      <td>0.0</td>\n",
       "      <td>True</td>\n",
       "      <td>Nov</td>\n",
       "      <td>Returning_Customer</td>\n",
       "      <td>1.0</td>\n",
       "    </tr>\n",
       "    <tr>\n",
       "      <th>5467</th>\n",
       "      <td>5468</td>\n",
       "      <td>4</td>\n",
       "      <td>204.2</td>\n",
       "      <td>0</td>\n",
       "      <td>0.0</td>\n",
       "      <td>31</td>\n",
       "      <td>652.376667</td>\n",
       "      <td>0.012121</td>\n",
       "      <td>0.016162</td>\n",
       "      <td>0.000000</td>\n",
       "      <td>0.0</td>\n",
       "      <td>False</td>\n",
       "      <td>Nov</td>\n",
       "      <td>Returning_Customer</td>\n",
       "      <td>0.0</td>\n",
       "    </tr>\n",
       "    <tr>\n",
       "      <th>5479</th>\n",
       "      <td>5480</td>\n",
       "      <td>0</td>\n",
       "      <td>0.0</td>\n",
       "      <td>0</td>\n",
       "      <td>0.0</td>\n",
       "      <td>13</td>\n",
       "      <td>710.066667</td>\n",
       "      <td>0.000000</td>\n",
       "      <td>0.007692</td>\n",
       "      <td>72.522838</td>\n",
       "      <td>0.0</td>\n",
       "      <td>False</td>\n",
       "      <td>Nov</td>\n",
       "      <td>Returning_Customer</td>\n",
       "      <td>1.0</td>\n",
       "    </tr>\n",
       "    <tr>\n",
       "      <th>5494</th>\n",
       "      <td>5495</td>\n",
       "      <td>0</td>\n",
       "      <td>0.0</td>\n",
       "      <td>0</td>\n",
       "      <td>0.0</td>\n",
       "      <td>24</td>\n",
       "      <td>968.692424</td>\n",
       "      <td>0.000000</td>\n",
       "      <td>0.000000</td>\n",
       "      <td>106.252517</td>\n",
       "      <td>0.0</td>\n",
       "      <td>False</td>\n",
       "      <td>Nov</td>\n",
       "      <td>Returning_Customer</td>\n",
       "      <td>1.0</td>\n",
       "    </tr>\n",
       "  </tbody>\n",
       "</table>\n",
       "</div>"
      ],
      "text/plain": [
       "      SessionID  Administrative  Administrative_Duration  Informational  \\\n",
       "5463       5464               1                     39.2              2   \n",
       "5464       5465               3                     89.6              0   \n",
       "5467       5468               4                    204.2              0   \n",
       "5479       5480               0                      0.0              0   \n",
       "5494       5495               0                      0.0              0   \n",
       "\n",
       "      Informational_Duration  ProductRelated  ProductRelated_Duration  \\\n",
       "5463                   120.8               7                80.500000   \n",
       "5464                     0.0              57              1721.906667   \n",
       "5467                     0.0              31               652.376667   \n",
       "5479                     0.0              13               710.066667   \n",
       "5494                     0.0              24               968.692424   \n",
       "\n",
       "      BounceRates  ExitRates  PageValues  SpecialDay  Weekend Month  \\\n",
       "5463     0.000000   0.010000    0.000000         0.0     True   Nov   \n",
       "5464     0.000000   0.005932  204.007949         0.0     True   Nov   \n",
       "5467     0.012121   0.016162    0.000000         0.0    False   Nov   \n",
       "5479     0.000000   0.007692   72.522838         0.0    False   Nov   \n",
       "5494     0.000000   0.000000  106.252517         0.0    False   Nov   \n",
       "\n",
       "            CustomerType  Purchase  \n",
       "5463        New_Customer       0.0  \n",
       "5464  Returning_Customer       1.0  \n",
       "5467  Returning_Customer       0.0  \n",
       "5479  Returning_Customer       1.0  \n",
       "5494  Returning_Customer       1.0  "
      ]
     },
     "execution_count": 9,
     "metadata": {},
     "output_type": "execute_result"
    }
   ],
   "source": [
    "# subset the DataFrame\n",
    "subset = ['Nov','Dec']\n",
    "shopping_data_subset = shopping_data[shopping_data['Month'].isin(subset)]\n",
    "shopping_data_subset.head()"
   ]
  },
  {
   "cell_type": "code",
   "execution_count": 10,
   "id": "bf713cb3",
   "metadata": {},
   "outputs": [],
   "source": [
    "freq_return = len(shopping_data_subset[shopping_data_subset['CustomerType']== 'Returning_Customer'])\n",
    "freq_new = len(shopping_data_subset[shopping_data_subset['CustomerType']== 'New_Customer'])"
   ]
  },
  {
   "cell_type": "code",
   "execution_count": 11,
   "id": "e1d2850c",
   "metadata": {},
   "outputs": [
    {
     "data": {
      "text/plain": [
       "{'Returning-Customer': 0.8364044943820225, 'New_Customer': 0.16359550561797753}"
      ]
     },
     "execution_count": 11,
     "metadata": {},
     "output_type": "execute_result"
    }
   ],
   "source": [
    "ratio_return = freq_return/len(shopping_data_subset)\n",
    "ratio_new = freq_new/len(shopping_data_subset)\n",
    "purchase_rates = { \"Returning-Customer\": ratio_return, \"New_Customer\":ratio_new}\n",
    "purchase_rates"
   ]
  },
  {
   "cell_type": "markdown",
   "id": "62db999b",
   "metadata": {},
   "source": [
    "2.What is the strongest correlation in total time spent among page types by returning customers in November and December? Store the result in a dictionary called top_correlation in the format below using the exact names for keys."
   ]
  },
  {
   "cell_type": "code",
   "execution_count": 12,
   "id": "735d4b88",
   "metadata": {},
   "outputs": [
    {
     "name": "stdout",
     "output_type": "stream",
     "text": [
      "0.24468855792839223\n",
      "0.3898546003206961\n",
      "0.36712552534442083\n"
     ]
    }
   ],
   "source": [
    "## Identify the strongest correlation in total time spent between different types of pages visited by the returning customers during the months of November and December. \n",
    "# Calculate correlation with pandas\n",
    "cor_admin_info = shopping_data_subset['Administrative_Duration'].corr(shopping_data_subset['Informational_Duration'])\n",
    "cor_admin_product = shopping_data_subset['Administrative_Duration'].corr(shopping_data_subset['ProductRelated_Duration'])\n",
    "cor_product_info = shopping_data_subset['ProductRelated_Duration'].corr(shopping_data_subset['Informational_Duration'])\n",
    "print(cor_admin_info)\n",
    "print(cor_admin_product)\n",
    "print(cor_product_info)"
   ]
  },
  {
   "cell_type": "code",
   "execution_count": 13,
   "id": "b2856530",
   "metadata": {},
   "outputs": [],
   "source": [
    "# # Another way to solve this is to use Scipy pearsonr function\n",
    "# cor_admin_info1 = stats.pearsonr(shopping_data_subset['Administrative_Duration'], shopping_data_subset['Informational_Duration'])\n",
    "\n",
    "# Another way to solve this is to use Pandas correlation matrix\n",
    "# shopping_data_subset[['Administrative_Duration','Informational_Duration','ProductRelated_Duration' ]].corr()\n"
   ]
  },
  {
   "cell_type": "code",
   "execution_count": 14,
   "id": "d637e42a",
   "metadata": {},
   "outputs": [
    {
     "name": "stdout",
     "output_type": "stream",
     "text": [
      "{'pair': ('Administrative_Duration', 'ProductRelated_Duration'), 'correlation': 0.3898546003206961}\n"
     ]
    }
   ],
   "source": [
    "# Store top correlation\n",
    "top_correlation = {\"pair\": ('Administrative_Duration', 'ProductRelated_Duration'), \"correlation\": cor_admin_product}\n",
    "print(top_correlation)"
   ]
  },
  {
   "cell_type": "code",
   "execution_count": null,
   "id": "a1a7d13d",
   "metadata": {},
   "outputs": [
    {
     "name": "stdout",
     "output_type": "stream",
     "text": [
      "Administrative_Duration ProductRelated_Duration\n"
     ]
    }
   ],
   "source": []
  },
  {
   "cell_type": "markdown",
   "id": "3bd6d488",
   "metadata": {},
   "source": [
    "3. A new campaign for the returning customers will boost the purchase rate by 15%. What is the likelihood of achieving at least 100 sales out of 500 online shopping sessions for the returning customers? Store the result in a variable called prob_at_least_100_sales. Optional: plot a binomial probability distribution chart to visualize your chances"
   ]
  },
  {
   "cell_type": "code",
   "execution_count": 21,
   "id": "8ad129be",
   "metadata": {},
   "outputs": [
    {
     "name": "stdout",
     "output_type": "stream",
     "text": [
      "Current purchase rate for the returning customer: 0.8364044943820225\n"
     ]
    }
   ],
   "source": [
    "# Purchase is a binomial random variable taking the value of either 0 or 1\n",
    "# We know that the current purchase rate for the returning customers is\n",
    "print(\"Current purchase rate for the returning customer:\", ratio_return )"
   ]
  },
  {
   "cell_type": "code",
   "execution_count": 23,
   "id": "b9f2a05c",
   "metadata": {},
   "outputs": [
    {
     "name": "stdout",
     "output_type": "stream",
     "text": [
      "Increased purchase rate for the returning customer: 0.9618651685393258\n"
     ]
    }
   ],
   "source": [
    "# 15% Increase in this rate would be\n",
    "increased_rate_return = 1.15 * ratio_return \n",
    "print(\"Increased purchase rate for the returning customer:\", increased_rate_return)\n"
   ]
  },
  {
   "cell_type": "code",
   "execution_count": 18,
   "id": "87bc49d2",
   "metadata": {},
   "outputs": [
    {
     "name": "stdout",
     "output_type": "stream",
     "text": [
      "probability of having <100 sales: 0.0\n"
     ]
    }
   ],
   "source": [
    "# First, we find the likelihood of having <100 sales of 500 sessions\n",
    "# We can find this from binomial cdf\n",
    "prob_sales_100_less = stats.binom.cdf(k=100, n=500, p=increased_rate_return)\n",
    "print(\"probability of having <100 sales:\", prob_sales_100_less)"
   ]
  },
  {
   "cell_type": "code",
   "execution_count": 19,
   "id": "6946e174",
   "metadata": {},
   "outputs": [
    {
     "name": "stdout",
     "output_type": "stream",
     "text": [
      "probability of having at least 100 sales: 1.0\n"
     ]
    }
   ],
   "source": [
    "# Then, to find the probability of having 100 or more sales is 1-prob_sales_100_less\n",
    "prob_at_least_100_sales = 1 - prob_sales_100_less\n",
    "print(\"probability of having at least 100 sales:\", prob_at_least_100_sales)"
   ]
  },
  {
   "cell_type": "code",
   "execution_count": 20,
   "id": "47599cfe",
   "metadata": {},
   "outputs": [
    {
     "data": {
      "image/png": "[encoded data removed]",
      "text/plain": [
       "<Figure size 640x480 with 1 Axes>"
      ]
     },
     "metadata": {},
     "output_type": "display_data"
    }
   ],
   "source": [
    "# Plotting the binomial probability distribution\n",
    "n_sessions = 500\n",
    "k_values = np.arange(500) + 1\n",
    "p_binom_values = [stats.binom.pmf(k, n_sessions, increased_rate_return) for k in k_values ] \n",
    "plt.bar(k_values, p_binom_values) \n",
    "plt.vlines(100, 0, 0.08, color='r', linestyle='dashed', label=\"sales=100\")\n",
    "plt.xlabel(\"number of sales\")\n",
    "plt.ylabel(\"probability\")\n",
    "plt.legend()\n",
    "plt.show()"
   ]
  }
 ],
 "metadata": {
  "kernelspec": {
   "display_name": "base",
   "language": "python",
   "name": "python3"
  },
  "language_info": {
   "codemirror_mode": {
    "name": "ipython",
    "version": 3
   },
   "file_extension": ".py",
   "mimetype": "text/x-python",
   "name": "python",
   "nbconvert_exporter": "python",
   "pygments_lexer": "ipython3",
   "version": "3.11.5"
  }
 },
 "nbformat": 4,
 "nbformat_minor": 5
}
