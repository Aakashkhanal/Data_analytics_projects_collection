{
 "cells": [
  {
   "cell_type": "markdown",
   "id": "4274a4f8",
   "metadata": {},
   "source": [
    "<div style=\"text-align: center; padding: 20px;\">\n",
    "    <img src=\"austin-distel-744oGeqpxPQ-unsplash.jpeg\" alt=\"​​Subscription Renewal Insights for a SaaS Company\" width=\"450\"/>\n",
    "</div>\n",
    "\n",
    "\n",
    "<!-- Image source - https://unsplash.com/photos/person-using-macbook-pro-744oGeqpxPQ\n",
    "-->\n"
   ]
  },
  {
   "cell_type": "code",
   "execution_count": null,
   "id": "70853cc5",
   "metadata": {},
   "outputs": [
    {
     "name": "stdout",
     "output_type": "stream",
     "text": [
      "Files extracted successfully!\n"
     ]
    }
   ],
   "source": [
    "# import zipfile\n",
    "\n",
    "# # Just the filename if it's in the same directory\n",
    "# zip_path = 'workspace.zip'\n",
    "# extract_to = 'extracted_files'  # This folder will be created automatically if it doesn't exist\n",
    "\n",
    "# with zipfile.ZipFile(zip_path, 'r') as zip_ref:\n",
    "#     zip_ref.extractall(extract_to)\n",
    "\n",
    "# print(\"Files extracted successfully!\")"
   ]
  },
  {
   "cell_type": "code",
   "execution_count": 1,
   "id": "2702eb73",
   "metadata": {},
   "outputs": [],
   "source": [
    "# Import required libraries\n",
    "import pandas as pd\n",
    "\n",
    "# Import data\n",
    "client_details = pd.read_csv('client_details.csv')\n",
    "subscription_records = pd.read_csv('subscription_records.csv', parse_dates = ['start_date','end_date'])\n",
    "economic_indicators = pd.read_csv('economic_indicators.csv', parse_dates = ['start_date','end_date'])"
   ]
  },
  {
   "cell_type": "code",
   "execution_count": 2,
   "id": "ebd957db",
   "metadata": {},
   "outputs": [
    {
     "data": {
      "text/html": [
       "<div>\n",
       "<style scoped>\n",
       "    .dataframe tbody tr th:only-of-type {\n",
       "        vertical-align: middle;\n",
       "    }\n",
       "\n",
       "    .dataframe tbody tr th {\n",
       "        vertical-align: top;\n",
       "    }\n",
       "\n",
       "    .dataframe thead th {\n",
       "        text-align: right;\n",
       "    }\n",
       "</style>\n",
       "<table border=\"1\" class=\"dataframe\">\n",
       "  <thead>\n",
       "    <tr style=\"text-align: right;\">\n",
       "      <th></th>\n",
       "      <th>client_id</th>\n",
       "      <th>company_size</th>\n",
       "      <th>industry</th>\n",
       "      <th>location</th>\n",
       "    </tr>\n",
       "  </thead>\n",
       "  <tbody>\n",
       "    <tr>\n",
       "      <th>0</th>\n",
       "      <td>4280387012</td>\n",
       "      <td>Large</td>\n",
       "      <td>Fintech</td>\n",
       "      <td>New York</td>\n",
       "    </tr>\n",
       "    <tr>\n",
       "      <th>1</th>\n",
       "      <td>2095513148</td>\n",
       "      <td>Small</td>\n",
       "      <td>Fintech</td>\n",
       "      <td>New Jersey</td>\n",
       "    </tr>\n",
       "    <tr>\n",
       "      <th>2</th>\n",
       "      <td>7225516707</td>\n",
       "      <td>Medium</td>\n",
       "      <td>Fintech</td>\n",
       "      <td>Pennsylvania</td>\n",
       "    </tr>\n",
       "    <tr>\n",
       "      <th>3</th>\n",
       "      <td>8093537819</td>\n",
       "      <td>Large</td>\n",
       "      <td>Crypto</td>\n",
       "      <td>New York</td>\n",
       "    </tr>\n",
       "    <tr>\n",
       "      <th>4</th>\n",
       "      <td>4387541014</td>\n",
       "      <td>Medium</td>\n",
       "      <td>E-commerce</td>\n",
       "      <td>Massachusetts</td>\n",
       "    </tr>\n",
       "  </tbody>\n",
       "</table>\n",
       "</div>"
      ],
      "text/plain": [
       "    client_id company_size    industry       location\n",
       "0  4280387012        Large     Fintech       New York\n",
       "1  2095513148        Small     Fintech     New Jersey\n",
       "2  7225516707       Medium     Fintech   Pennsylvania\n",
       "3  8093537819        Large      Crypto       New York\n",
       "4  4387541014       Medium  E-commerce  Massachusetts"
      ]
     },
     "execution_count": 2,
     "metadata": {},
     "output_type": "execute_result"
    }
   ],
   "source": [
    "client_details .head()"
   ]
  },
  {
   "cell_type": "code",
   "execution_count": 3,
   "id": "b760bc67",
   "metadata": {},
   "outputs": [
    {
     "data": {
      "text/html": [
       "<div>\n",
       "<style scoped>\n",
       "    .dataframe tbody tr th:only-of-type {\n",
       "        vertical-align: middle;\n",
       "    }\n",
       "\n",
       "    .dataframe tbody tr th {\n",
       "        vertical-align: top;\n",
       "    }\n",
       "\n",
       "    .dataframe thead th {\n",
       "        text-align: right;\n",
       "    }\n",
       "</style>\n",
       "<table border=\"1\" class=\"dataframe\">\n",
       "  <thead>\n",
       "    <tr style=\"text-align: right;\">\n",
       "      <th></th>\n",
       "      <th>client_id</th>\n",
       "      <th>subscription_type</th>\n",
       "      <th>start_date</th>\n",
       "      <th>end_date</th>\n",
       "      <th>renewed</th>\n",
       "    </tr>\n",
       "  </thead>\n",
       "  <tbody>\n",
       "    <tr>\n",
       "      <th>0</th>\n",
       "      <td>1131383004</td>\n",
       "      <td>Yearly</td>\n",
       "      <td>2020-11-11</td>\n",
       "      <td>2021-11-11</td>\n",
       "      <td>False</td>\n",
       "    </tr>\n",
       "    <tr>\n",
       "      <th>1</th>\n",
       "      <td>4309371709</td>\n",
       "      <td>Monthly</td>\n",
       "      <td>2021-05-24</td>\n",
       "      <td>2021-06-23</td>\n",
       "      <td>True</td>\n",
       "    </tr>\n",
       "    <tr>\n",
       "      <th>2</th>\n",
       "      <td>3183675157</td>\n",
       "      <td>Yearly</td>\n",
       "      <td>2021-12-25</td>\n",
       "      <td>2022-12-25</td>\n",
       "      <td>True</td>\n",
       "    </tr>\n",
       "    <tr>\n",
       "      <th>3</th>\n",
       "      <td>5371694837</td>\n",
       "      <td>Monthly</td>\n",
       "      <td>2020-03-14</td>\n",
       "      <td>2020-04-13</td>\n",
       "      <td>True</td>\n",
       "    </tr>\n",
       "    <tr>\n",
       "      <th>4</th>\n",
       "      <td>5157113076</td>\n",
       "      <td>Monthly</td>\n",
       "      <td>2019-11-07</td>\n",
       "      <td>2019-12-07</td>\n",
       "      <td>False</td>\n",
       "    </tr>\n",
       "  </tbody>\n",
       "</table>\n",
       "</div>"
      ],
      "text/plain": [
       "    client_id subscription_type start_date   end_date  renewed\n",
       "0  1131383004            Yearly 2020-11-11 2021-11-11    False\n",
       "1  4309371709           Monthly 2021-05-24 2021-06-23     True\n",
       "2  3183675157            Yearly 2021-12-25 2022-12-25     True\n",
       "3  5371694837           Monthly 2020-03-14 2020-04-13     True\n",
       "4  5157113076           Monthly 2019-11-07 2019-12-07    False"
      ]
     },
     "execution_count": 3,
     "metadata": {},
     "output_type": "execute_result"
    }
   ],
   "source": [
    "subscription_records.head()"
   ]
  },
  {
   "cell_type": "code",
   "execution_count": 4,
   "id": "89a3c469",
   "metadata": {},
   "outputs": [
    {
     "data": {
      "text/html": [
       "<div>\n",
       "<style scoped>\n",
       "    .dataframe tbody tr th:only-of-type {\n",
       "        vertical-align: middle;\n",
       "    }\n",
       "\n",
       "    .dataframe tbody tr th {\n",
       "        vertical-align: top;\n",
       "    }\n",
       "\n",
       "    .dataframe thead th {\n",
       "        text-align: right;\n",
       "    }\n",
       "</style>\n",
       "<table border=\"1\" class=\"dataframe\">\n",
       "  <thead>\n",
       "    <tr style=\"text-align: right;\">\n",
       "      <th></th>\n",
       "      <th>Unnamed: 0</th>\n",
       "      <th>start_date</th>\n",
       "      <th>end_date</th>\n",
       "      <th>inflation_rate</th>\n",
       "      <th>gdp_growth_rate</th>\n",
       "    </tr>\n",
       "  </thead>\n",
       "  <tbody>\n",
       "    <tr>\n",
       "      <th>0</th>\n",
       "      <td>0</td>\n",
       "      <td>2018-01-01</td>\n",
       "      <td>2018-03-31</td>\n",
       "      <td>5.77</td>\n",
       "      <td>3.51</td>\n",
       "    </tr>\n",
       "    <tr>\n",
       "      <th>1</th>\n",
       "      <td>1</td>\n",
       "      <td>2018-04-01</td>\n",
       "      <td>2018-06-30</td>\n",
       "      <td>1.17</td>\n",
       "      <td>2.15</td>\n",
       "    </tr>\n",
       "    <tr>\n",
       "      <th>2</th>\n",
       "      <td>2</td>\n",
       "      <td>2018-07-01</td>\n",
       "      <td>2018-09-30</td>\n",
       "      <td>1.56</td>\n",
       "      <td>1.82</td>\n",
       "    </tr>\n",
       "    <tr>\n",
       "      <th>3</th>\n",
       "      <td>3</td>\n",
       "      <td>2018-10-01</td>\n",
       "      <td>2018-12-31</td>\n",
       "      <td>2.78</td>\n",
       "      <td>2.43</td>\n",
       "    </tr>\n",
       "    <tr>\n",
       "      <th>4</th>\n",
       "      <td>4</td>\n",
       "      <td>2019-01-01</td>\n",
       "      <td>2019-03-31</td>\n",
       "      <td>6.91</td>\n",
       "      <td>3.44</td>\n",
       "    </tr>\n",
       "  </tbody>\n",
       "</table>\n",
       "</div>"
      ],
      "text/plain": [
       "   Unnamed: 0 start_date   end_date  inflation_rate  gdp_growth_rate\n",
       "0           0 2018-01-01 2018-03-31            5.77             3.51\n",
       "1           1 2018-04-01 2018-06-30            1.17             2.15\n",
       "2           2 2018-07-01 2018-09-30            1.56             1.82\n",
       "3           3 2018-10-01 2018-12-31            2.78             2.43\n",
       "4           4 2019-01-01 2019-03-31            6.91             3.44"
      ]
     },
     "execution_count": 4,
     "metadata": {},
     "output_type": "execute_result"
    }
   ],
   "source": [
    "economic_indicators.head()"
   ]
  },
  {
   "cell_type": "markdown",
   "id": "f9f15135",
   "metadata": {},
   "source": [
    "1. How many total Fintech and Crypto clients does the company have? Store as an integer variable called total_fintech_crypto_clients."
   ]
  },
  {
   "cell_type": "code",
   "execution_count": 5,
   "id": "a412de28",
   "metadata": {},
   "outputs": [
    {
     "name": "stdout",
     "output_type": "stream",
     "text": [
      "<class 'pandas.core.frame.DataFrame'>\n",
      "RangeIndex: 100 entries, 0 to 99\n",
      "Data columns (total 4 columns):\n",
      " #   Column        Non-Null Count  Dtype \n",
      "---  ------        --------------  ----- \n",
      " 0   client_id     100 non-null    int64 \n",
      " 1   company_size  100 non-null    object\n",
      " 2   industry      100 non-null    object\n",
      " 3   location      100 non-null    object\n",
      "dtypes: int64(1), object(3)\n",
      "memory usage: 3.3+ KB\n"
     ]
    }
   ],
   "source": [
    "client_details.info()"
   ]
  },
  {
   "cell_type": "code",
   "execution_count": 6,
   "id": "235de188",
   "metadata": {},
   "outputs": [
    {
     "data": {
      "text/html": [
       "<div>\n",
       "<style scoped>\n",
       "    .dataframe tbody tr th:only-of-type {\n",
       "        vertical-align: middle;\n",
       "    }\n",
       "\n",
       "    .dataframe tbody tr th {\n",
       "        vertical-align: top;\n",
       "    }\n",
       "\n",
       "    .dataframe thead th {\n",
       "        text-align: right;\n",
       "    }\n",
       "</style>\n",
       "<table border=\"1\" class=\"dataframe\">\n",
       "  <thead>\n",
       "    <tr style=\"text-align: right;\">\n",
       "      <th></th>\n",
       "      <th>client_id</th>\n",
       "      <th>company_size</th>\n",
       "      <th>industry</th>\n",
       "      <th>location</th>\n",
       "    </tr>\n",
       "  </thead>\n",
       "  <tbody>\n",
       "    <tr>\n",
       "      <th>0</th>\n",
       "      <td>4280387012</td>\n",
       "      <td>Large</td>\n",
       "      <td>Fintech</td>\n",
       "      <td>New York</td>\n",
       "    </tr>\n",
       "    <tr>\n",
       "      <th>1</th>\n",
       "      <td>2095513148</td>\n",
       "      <td>Small</td>\n",
       "      <td>Fintech</td>\n",
       "      <td>New Jersey</td>\n",
       "    </tr>\n",
       "    <tr>\n",
       "      <th>2</th>\n",
       "      <td>7225516707</td>\n",
       "      <td>Medium</td>\n",
       "      <td>Fintech</td>\n",
       "      <td>Pennsylvania</td>\n",
       "    </tr>\n",
       "    <tr>\n",
       "      <th>3</th>\n",
       "      <td>8093537819</td>\n",
       "      <td>Large</td>\n",
       "      <td>Crypto</td>\n",
       "      <td>New York</td>\n",
       "    </tr>\n",
       "    <tr>\n",
       "      <th>4</th>\n",
       "      <td>4387541014</td>\n",
       "      <td>Medium</td>\n",
       "      <td>E-commerce</td>\n",
       "      <td>Massachusetts</td>\n",
       "    </tr>\n",
       "  </tbody>\n",
       "</table>\n",
       "</div>"
      ],
      "text/plain": [
       "    client_id company_size    industry       location\n",
       "0  4280387012        Large     Fintech       New York\n",
       "1  2095513148        Small     Fintech     New Jersey\n",
       "2  7225516707       Medium     Fintech   Pennsylvania\n",
       "3  8093537819        Large      Crypto       New York\n",
       "4  4387541014       Medium  E-commerce  Massachusetts"
      ]
     },
     "execution_count": 6,
     "metadata": {},
     "output_type": "execute_result"
    }
   ],
   "source": [
    "client_details.head()"
   ]
  },
  {
   "cell_type": "markdown",
   "id": "497bbaa9",
   "metadata": {},
   "source": [
    "1. How many total Fintech and Crypto clients does the company have? Store as an integer variable called total_fintech_crypto_clients."
   ]
  },
  {
   "cell_type": "code",
   "execution_count": 7,
   "id": "056cc351",
   "metadata": {},
   "outputs": [
    {
     "data": {
      "text/plain": [
       "47"
      ]
     },
     "execution_count": 7,
     "metadata": {},
     "output_type": "execute_result"
    }
   ],
   "source": [
    "total_fintech_crypto_clients =len(client_details[(client_details['industry'] == 'Fintech') | (client_details['industry']=='Crypto')])\n",
    "total_fintech_crypto_clients "
   ]
  },
  {
   "cell_type": "code",
   "execution_count": 8,
   "id": "fa8622cb",
   "metadata": {},
   "outputs": [],
   "source": [
    "# # Another method of doing it\n",
    "# Alternate method 1\n",
    "# def is_fintech_or_crypto(x):\n",
    "#     if x in ['Fintech', 'Crypto']:\n",
    "#         return 1\n",
    "#     else:\n",
    "#         return 0\n",
    "\n",
    "# # Loop through the 'industry' column in client_details and increment the total_fintech_crypto_clients counter for every Fintech or Crpyto client\n",
    "# total_fintech_crypto_clients = 0\n",
    "# for industry in client_details['industry']:\n",
    "#     total_fintech_crypto_clients += is_fintech_or_crypto(industry)\n",
    "# print(total_fintech_crypto_clients)"
   ]
  },
  {
   "cell_type": "code",
   "execution_count": 9,
   "id": "c3298e31",
   "metadata": {},
   "outputs": [],
   "source": [
    "# Alternate method 2\n",
    "# total_fintech_crypto_clients = client_details['industry'].apply(is_fintech_or_crypto).sum()\n"
   ]
  },
  {
   "cell_type": "code",
   "execution_count": 10,
   "id": "e6f421af",
   "metadata": {},
   "outputs": [],
   "source": [
    "# # Alternate approach 3 - Use a lambda function to calculate the total number of Fintech and Crypto clients\n",
    "# # total_fintech_crypto_clients = client_details['industry'].apply(lambda x: x in ['Fintech','Crypto']).sum()"
   ]
  },
  {
   "cell_type": "markdown",
   "id": "6ad9a863",
   "metadata": {},
   "source": [
    "\n",
    "2. Which industry has the highest renewal rate? Store as a string variable called top_industry."
   ]
  },
  {
   "cell_type": "code",
   "execution_count": 11,
   "id": "40470e42",
   "metadata": {},
   "outputs": [
    {
     "data": {
      "text/html": [
       "<div>\n",
       "<style scoped>\n",
       "    .dataframe tbody tr th:only-of-type {\n",
       "        vertical-align: middle;\n",
       "    }\n",
       "\n",
       "    .dataframe tbody tr th {\n",
       "        vertical-align: top;\n",
       "    }\n",
       "\n",
       "    .dataframe thead th {\n",
       "        text-align: right;\n",
       "    }\n",
       "</style>\n",
       "<table border=\"1\" class=\"dataframe\">\n",
       "  <thead>\n",
       "    <tr style=\"text-align: right;\">\n",
       "      <th></th>\n",
       "      <th>client_id</th>\n",
       "      <th>subscription_type</th>\n",
       "      <th>start_date</th>\n",
       "      <th>end_date</th>\n",
       "      <th>renewed</th>\n",
       "    </tr>\n",
       "  </thead>\n",
       "  <tbody>\n",
       "    <tr>\n",
       "      <th>0</th>\n",
       "      <td>1131383004</td>\n",
       "      <td>Yearly</td>\n",
       "      <td>2020-11-11</td>\n",
       "      <td>2021-11-11</td>\n",
       "      <td>False</td>\n",
       "    </tr>\n",
       "    <tr>\n",
       "      <th>1</th>\n",
       "      <td>4309371709</td>\n",
       "      <td>Monthly</td>\n",
       "      <td>2021-05-24</td>\n",
       "      <td>2021-06-23</td>\n",
       "      <td>True</td>\n",
       "    </tr>\n",
       "    <tr>\n",
       "      <th>2</th>\n",
       "      <td>3183675157</td>\n",
       "      <td>Yearly</td>\n",
       "      <td>2021-12-25</td>\n",
       "      <td>2022-12-25</td>\n",
       "      <td>True</td>\n",
       "    </tr>\n",
       "    <tr>\n",
       "      <th>3</th>\n",
       "      <td>5371694837</td>\n",
       "      <td>Monthly</td>\n",
       "      <td>2020-03-14</td>\n",
       "      <td>2020-04-13</td>\n",
       "      <td>True</td>\n",
       "    </tr>\n",
       "    <tr>\n",
       "      <th>4</th>\n",
       "      <td>5157113076</td>\n",
       "      <td>Monthly</td>\n",
       "      <td>2019-11-07</td>\n",
       "      <td>2019-12-07</td>\n",
       "      <td>False</td>\n",
       "    </tr>\n",
       "  </tbody>\n",
       "</table>\n",
       "</div>"
      ],
      "text/plain": [
       "    client_id subscription_type start_date   end_date  renewed\n",
       "0  1131383004            Yearly 2020-11-11 2021-11-11    False\n",
       "1  4309371709           Monthly 2021-05-24 2021-06-23     True\n",
       "2  3183675157            Yearly 2021-12-25 2022-12-25     True\n",
       "3  5371694837           Monthly 2020-03-14 2020-04-13     True\n",
       "4  5157113076           Monthly 2019-11-07 2019-12-07    False"
      ]
     },
     "execution_count": 11,
     "metadata": {},
     "output_type": "execute_result"
    }
   ],
   "source": [
    "subscription_records.head()"
   ]
  },
  {
   "cell_type": "code",
   "execution_count": 12,
   "id": "89f84ac0",
   "metadata": {},
   "outputs": [
    {
     "data": {
      "text/plain": [
       "5536015034"
      ]
     },
     "execution_count": 12,
     "metadata": {},
     "output_type": "execute_result"
    }
   ],
   "source": [
    "subscription_records.groupby('client_id')['renewed'].mean().sort_values(ascending=False).index[0]"
   ]
  },
  {
   "cell_type": "code",
   "execution_count": 13,
   "id": "56590932",
   "metadata": {},
   "outputs": [],
   "source": [
    "client_details[client_details['client_id'] == 5536015034 ]['industry'].index[0]\n",
    "top_industry = 'Gaming'"
   ]
  },
  {
   "cell_type": "code",
   "execution_count": 14,
   "id": "83c3bda2",
   "metadata": {},
   "outputs": [],
   "source": [
    "# alternate method for qn.2.\n",
    "\n",
    "# Merging client details with subscription records\n",
    "subscriptions = pd.merge(subscription_records, client_details, on = 'client_id', how = 'left')\n"
   ]
  },
  {
   "cell_type": "code",
   "execution_count": 15,
   "id": "bfb5b497",
   "metadata": {},
   "outputs": [],
   "source": [
    "# Group by industry and calculate renewal rate\n",
    "industry_renewal_rates = subscriptions.groupby('industry')['renewed'].mean()"
   ]
  },
  {
   "cell_type": "code",
   "execution_count": 16,
   "id": "997dc796",
   "metadata": {},
   "outputs": [],
   "source": [
    "# Find the industry with the highest renewal rate, save as variable 'top_industry'\n",
    "top_industry = industry_renewal_rates.sort_values(ascending = False).index[0]"
   ]
  },
  {
   "cell_type": "markdown",
   "id": "eeee0393",
   "metadata": {},
   "source": [
    "3. -For clients that renewed their subscriptions, what was the average inflation rate when their subscriptions were renewed? #####"
   ]
  },
  {
   "cell_type": "code",
   "execution_count": 17,
   "id": "c90019d6",
   "metadata": {},
   "outputs": [],
   "source": [
    "# Merge subscription records with economic indicators to get the inflation rate at the subscription end date (i.e., renewal time)\n",
    "subscriptions_with_inflation = pd.merge_asof(subscription_records.sort_values(by='end_date'), \n",
    "                                             economic_indicators, \n",
    "                                             left_on='end_date', \n",
    "                                             right_on='start_date', \n",
    "                                             direction='backward')\n",
    "\n"
   ]
  },
  {
   "cell_type": "code",
   "execution_count": 18,
   "id": "97809e42",
   "metadata": {},
   "outputs": [],
   "source": [
    "# Calculate the average inflation rate for renewed subscriptions\n",
    "average_inflation_for_renewals = subscriptions_with_inflation[subscriptions_with_inflation['renewed'] == True].inflation_rate.mean()"
   ]
  }
 ],
 "metadata": {
  "kernelspec": {
   "display_name": "base",
   "language": "python",
   "name": "python3"
  },
  "language_info": {
   "codemirror_mode": {
    "name": "ipython",
    "version": 3
   },
   "file_extension": ".py",
   "mimetype": "text/x-python",
   "name": "python",
   "nbconvert_exporter": "python",
   "pygments_lexer": "ipython3",
   "version": "3.11.5"
  }
 },
 "nbformat": 4,
 "nbformat_minor": 5
}
