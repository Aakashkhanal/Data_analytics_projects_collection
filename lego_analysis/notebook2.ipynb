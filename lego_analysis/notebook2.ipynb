{
 "cells": [
  {
   "cell_type": "code",
   "execution_count": 62,
   "id": "e1c1d53a",
   "metadata": {},
   "outputs": [],
   "source": [
    "import pandas as pd"
   ]
  },
  {
   "cell_type": "code",
   "execution_count": 63,
   "id": "9e92970c",
   "metadata": {},
   "outputs": [],
   "source": [
    "lego = pd.read_csv('https://raw.githubusercontent.com/KeithGalli/lego-analysis/refs/heads/master/datasets/lego_sets.csv')\n",
    "parent_themes = pd.read_csv('https://raw.githubusercontent.com/KeithGalli/lego-analysis/refs/heads/master/datasets/parent_themes.csv')"
   ]
  },
  {
   "cell_type": "code",
   "execution_count": 64,
   "id": "5078344c",
   "metadata": {},
   "outputs": [
    {
     "data": {
      "text/html": [
       "<div>\n",
       "<style scoped>\n",
       "    .dataframe tbody tr th:only-of-type {\n",
       "        vertical-align: middle;\n",
       "    }\n",
       "\n",
       "    .dataframe tbody tr th {\n",
       "        vertical-align: top;\n",
       "    }\n",
       "\n",
       "    .dataframe thead th {\n",
       "        text-align: right;\n",
       "    }\n",
       "</style>\n",
       "<table border=\"1\" class=\"dataframe\">\n",
       "  <thead>\n",
       "    <tr style=\"text-align: right;\">\n",
       "      <th></th>\n",
       "      <th>set_num</th>\n",
       "      <th>name</th>\n",
       "      <th>year</th>\n",
       "      <th>num_parts</th>\n",
       "      <th>theme_name</th>\n",
       "      <th>parent_theme</th>\n",
       "    </tr>\n",
       "  </thead>\n",
       "  <tbody>\n",
       "    <tr>\n",
       "      <th>0</th>\n",
       "      <td>00-1</td>\n",
       "      <td>Weetabix Castle</td>\n",
       "      <td>1970</td>\n",
       "      <td>471.0</td>\n",
       "      <td>Castle</td>\n",
       "      <td>Legoland</td>\n",
       "    </tr>\n",
       "    <tr>\n",
       "      <th>1</th>\n",
       "      <td>0011-2</td>\n",
       "      <td>Town Mini-Figures</td>\n",
       "      <td>1978</td>\n",
       "      <td>NaN</td>\n",
       "      <td>Supplemental</td>\n",
       "      <td>Town</td>\n",
       "    </tr>\n",
       "    <tr>\n",
       "      <th>2</th>\n",
       "      <td>0011-3</td>\n",
       "      <td>Castle 2 for 1 Bonus Offer</td>\n",
       "      <td>1987</td>\n",
       "      <td>NaN</td>\n",
       "      <td>Lion Knights</td>\n",
       "      <td>Castle</td>\n",
       "    </tr>\n",
       "    <tr>\n",
       "      <th>3</th>\n",
       "      <td>0012-1</td>\n",
       "      <td>Space Mini-Figures</td>\n",
       "      <td>1979</td>\n",
       "      <td>12.0</td>\n",
       "      <td>Supplemental</td>\n",
       "      <td>Space</td>\n",
       "    </tr>\n",
       "    <tr>\n",
       "      <th>4</th>\n",
       "      <td>0013-1</td>\n",
       "      <td>Space Mini-Figures</td>\n",
       "      <td>1979</td>\n",
       "      <td>12.0</td>\n",
       "      <td>Supplemental</td>\n",
       "      <td>Space</td>\n",
       "    </tr>\n",
       "  </tbody>\n",
       "</table>\n",
       "</div>"
      ],
      "text/plain": [
       "  set_num                        name  year  num_parts    theme_name  \\\n",
       "0    00-1             Weetabix Castle  1970      471.0        Castle   \n",
       "1  0011-2           Town Mini-Figures  1978        NaN  Supplemental   \n",
       "2  0011-3  Castle 2 for 1 Bonus Offer  1987        NaN  Lion Knights   \n",
       "3  0012-1          Space Mini-Figures  1979       12.0  Supplemental   \n",
       "4  0013-1          Space Mini-Figures  1979       12.0  Supplemental   \n",
       "\n",
       "  parent_theme  \n",
       "0     Legoland  \n",
       "1         Town  \n",
       "2       Castle  \n",
       "3        Space  \n",
       "4        Space  "
      ]
     },
     "execution_count": 64,
     "metadata": {},
     "output_type": "execute_result"
    }
   ],
   "source": [
    "lego.head()"
   ]
  },
  {
   "cell_type": "code",
   "execution_count": 65,
   "id": "4057bf98",
   "metadata": {},
   "outputs": [
    {
     "name": "stdout",
     "output_type": "stream",
     "text": [
      "<class 'pandas.core.frame.DataFrame'>\n",
      "RangeIndex: 11986 entries, 0 to 11985\n",
      "Data columns (total 6 columns):\n",
      " #   Column        Non-Null Count  Dtype  \n",
      "---  ------        --------------  -----  \n",
      " 0   set_num       11833 non-null  object \n",
      " 1   name          11833 non-null  object \n",
      " 2   year          11986 non-null  int64  \n",
      " 3   num_parts     6926 non-null   float64\n",
      " 4   theme_name    11833 non-null  object \n",
      " 5   parent_theme  11986 non-null  object \n",
      "dtypes: float64(1), int64(1), object(4)\n",
      "memory usage: 562.0+ KB\n"
     ]
    }
   ],
   "source": [
    "lego.info()"
   ]
  },
  {
   "cell_type": "code",
   "execution_count": 66,
   "id": "bddd8801",
   "metadata": {},
   "outputs": [
    {
     "data": {
      "text/html": [
       "<div>\n",
       "<style scoped>\n",
       "    .dataframe tbody tr th:only-of-type {\n",
       "        vertical-align: middle;\n",
       "    }\n",
       "\n",
       "    .dataframe tbody tr th {\n",
       "        vertical-align: top;\n",
       "    }\n",
       "\n",
       "    .dataframe thead th {\n",
       "        text-align: right;\n",
       "    }\n",
       "</style>\n",
       "<table border=\"1\" class=\"dataframe\">\n",
       "  <thead>\n",
       "    <tr style=\"text-align: right;\">\n",
       "      <th></th>\n",
       "      <th>id</th>\n",
       "      <th>name</th>\n",
       "      <th>is_licensed</th>\n",
       "    </tr>\n",
       "  </thead>\n",
       "  <tbody>\n",
       "    <tr>\n",
       "      <th>0</th>\n",
       "      <td>1</td>\n",
       "      <td>Technic</td>\n",
       "      <td>False</td>\n",
       "    </tr>\n",
       "    <tr>\n",
       "      <th>1</th>\n",
       "      <td>22</td>\n",
       "      <td>Creator</td>\n",
       "      <td>False</td>\n",
       "    </tr>\n",
       "    <tr>\n",
       "      <th>2</th>\n",
       "      <td>50</td>\n",
       "      <td>Town</td>\n",
       "      <td>False</td>\n",
       "    </tr>\n",
       "    <tr>\n",
       "      <th>3</th>\n",
       "      <td>112</td>\n",
       "      <td>Racers</td>\n",
       "      <td>False</td>\n",
       "    </tr>\n",
       "    <tr>\n",
       "      <th>4</th>\n",
       "      <td>126</td>\n",
       "      <td>Space</td>\n",
       "      <td>False</td>\n",
       "    </tr>\n",
       "  </tbody>\n",
       "</table>\n",
       "</div>"
      ],
      "text/plain": [
       "    id     name  is_licensed\n",
       "0    1  Technic        False\n",
       "1   22  Creator        False\n",
       "2   50     Town        False\n",
       "3  112   Racers        False\n",
       "4  126    Space        False"
      ]
     },
     "execution_count": 66,
     "metadata": {},
     "output_type": "execute_result"
    }
   ],
   "source": [
    "parent_themes.head()"
   ]
  },
  {
   "cell_type": "code",
   "execution_count": 67,
   "id": "3ba56cfa",
   "metadata": {},
   "outputs": [
    {
     "name": "stdout",
     "output_type": "stream",
     "text": [
      "<class 'pandas.core.frame.DataFrame'>\n",
      "RangeIndex: 111 entries, 0 to 110\n",
      "Data columns (total 3 columns):\n",
      " #   Column       Non-Null Count  Dtype \n",
      "---  ------       --------------  ----- \n",
      " 0   id           111 non-null    int64 \n",
      " 1   name         111 non-null    object\n",
      " 2   is_licensed  111 non-null    bool  \n",
      "dtypes: bool(1), int64(1), object(1)\n",
      "memory usage: 2.0+ KB\n"
     ]
    }
   ],
   "source": [
    "parent_themes.info()"
   ]
  },
  {
   "cell_type": "code",
   "execution_count": 68,
   "id": "b11554ce",
   "metadata": {},
   "outputs": [
    {
     "data": {
      "text/plain": [
       "(11986, 6)"
      ]
     },
     "execution_count": 68,
     "metadata": {},
     "output_type": "execute_result"
    }
   ],
   "source": [
    "lego.shape"
   ]
  },
  {
   "cell_type": "code",
   "execution_count": 69,
   "id": "5ddd3f8e",
   "metadata": {},
   "outputs": [
    {
     "data": {
      "text/plain": [
       "11833"
      ]
     },
     "execution_count": 69,
     "metadata": {},
     "output_type": "execute_result"
    }
   ],
   "source": [
    "lego['set_num'].nunique()"
   ]
  },
  {
   "cell_type": "code",
   "execution_count": 70,
   "id": "a42fe1c9",
   "metadata": {},
   "outputs": [],
   "source": [
    "lego_cleaned = lego.dropna(subset=['set_num', 'name', 'theme_name'])"
   ]
  },
  {
   "cell_type": "code",
   "execution_count": 71,
   "id": "c62eae69",
   "metadata": {},
   "outputs": [
    {
     "data": {
      "text/plain": [
       "(11833, 6)"
      ]
     },
     "execution_count": 71,
     "metadata": {},
     "output_type": "execute_result"
    }
   ],
   "source": [
    "lego_cleaned.shape"
   ]
  },
  {
   "cell_type": "markdown",
   "id": "5cf8f12b",
   "metadata": {},
   "source": [
    "### Qn1. What percentage of all licensed sets ever released were Star Wars themed ? Save your answer as a variable the_force, as an integer.\n"
   ]
  },
  {
   "cell_type": "code",
   "execution_count": 72,
   "id": "eea643a8",
   "metadata": {},
   "outputs": [
    {
     "data": {
      "text/plain": [
       "7                             Star Wars\n",
       "12                         Harry Potter\n",
       "16             Pirates of the Caribbean\n",
       "17                        Indiana Jones\n",
       "18                                 Cars\n",
       "19                               Ben 10\n",
       "20                     Prince of Persia\n",
       "21                SpongeBob SquarePants\n",
       "23                            Toy Story\n",
       "33                               Avatar\n",
       "43                Disney's Mickey Mouse\n",
       "77                         Super Heroes\n",
       "88     The Hobbit and Lord of the Rings\n",
       "89         Teenage Mutant Ninja Turtles\n",
       "91                      The Lone Ranger\n",
       "93                            Minecraft\n",
       "95                      Disney Princess\n",
       "103                      Jurassic World\n",
       "104                          Scooby-Doo\n",
       "107                         Angry Birds\n",
       "108                        Ghostbusters\n",
       "109                              Disney\n",
       "Name: name, dtype: object"
      ]
     },
     "execution_count": 72,
     "metadata": {},
     "output_type": "execute_result"
    }
   ],
   "source": [
    "# subseting for licensed sets\n",
    "\n",
    "licensed_themes = parent_themes[parent_themes['is_licensed']]['name']\n",
    "licensed_themes"
   ]
  },
  {
   "cell_type": "code",
   "execution_count": 73,
   "id": "69898bab",
   "metadata": {},
   "outputs": [
    {
     "name": "stdout",
     "output_type": "stream",
     "text": [
      "The percentage of licensed sets that are Star Wars themed is 51%.\n"
     ]
    }
   ],
   "source": [
    "# Now we subset for licensed theme \n",
    "\n",
    "lego_cleaned = lego_cleaned[lego_cleaned['parent_theme'].isin(licensed_themes)]\n",
    "total_num = len(lego_cleaned)\n",
    "num_star_themed =len(lego_cleaned[lego_cleaned['parent_theme'] == 'Star Wars'])\n",
    "ratio = num_star_themed /total_num  \n",
    "the_force = int(ratio*100)\n",
    "print(f'The percentage of licensed sets that are Star Wars themed is {the_force}%.')"
   ]
  },
  {
   "cell_type": "code",
   "execution_count": 75,
   "id": "f4a89f02",
   "metadata": {},
   "outputs": [
    {
     "data": {
      "text/plain": [
       "1179"
      ]
     },
     "execution_count": 75,
     "metadata": {},
     "output_type": "execute_result"
    }
   ],
   "source": [
    "total_num"
   ]
  },
  {
   "cell_type": "markdown",
   "id": "0f8af358",
   "metadata": {},
   "source": [
    "### In which year was the highest number of Star Wars sets released? Save your answer as a variable new_era, as an integer (e.g. 2012)"
   ]
  },
  {
   "cell_type": "code",
   "execution_count": 76,
   "id": "e67b28f0",
   "metadata": {},
   "outputs": [
    {
     "data": {
      "text/html": [
       "<div>\n",
       "<style scoped>\n",
       "    .dataframe tbody tr th:only-of-type {\n",
       "        vertical-align: middle;\n",
       "    }\n",
       "\n",
       "    .dataframe tbody tr th {\n",
       "        vertical-align: top;\n",
       "    }\n",
       "\n",
       "    .dataframe thead th {\n",
       "        text-align: right;\n",
       "    }\n",
       "</style>\n",
       "<table border=\"1\" class=\"dataframe\">\n",
       "  <thead>\n",
       "    <tr style=\"text-align: right;\">\n",
       "      <th>parent_theme</th>\n",
       "      <th>Angry Birds</th>\n",
       "      <th>Avatar</th>\n",
       "      <th>Ben 10</th>\n",
       "      <th>Cars</th>\n",
       "      <th>Disney</th>\n",
       "      <th>Disney Princess</th>\n",
       "      <th>Disney's Mickey Mouse</th>\n",
       "      <th>Ghostbusters</th>\n",
       "      <th>Harry Potter</th>\n",
       "      <th>Indiana Jones</th>\n",
       "      <th>...</th>\n",
       "      <th>Pirates of the Caribbean</th>\n",
       "      <th>Prince of Persia</th>\n",
       "      <th>Scooby-Doo</th>\n",
       "      <th>SpongeBob SquarePants</th>\n",
       "      <th>Star Wars</th>\n",
       "      <th>Super Heroes</th>\n",
       "      <th>Teenage Mutant Ninja Turtles</th>\n",
       "      <th>The Hobbit and Lord of the Rings</th>\n",
       "      <th>The Lone Ranger</th>\n",
       "      <th>Toy Story</th>\n",
       "    </tr>\n",
       "    <tr>\n",
       "      <th>year</th>\n",
       "      <th></th>\n",
       "      <th></th>\n",
       "      <th></th>\n",
       "      <th></th>\n",
       "      <th></th>\n",
       "      <th></th>\n",
       "      <th></th>\n",
       "      <th></th>\n",
       "      <th></th>\n",
       "      <th></th>\n",
       "      <th></th>\n",
       "      <th></th>\n",
       "      <th></th>\n",
       "      <th></th>\n",
       "      <th></th>\n",
       "      <th></th>\n",
       "      <th></th>\n",
       "      <th></th>\n",
       "      <th></th>\n",
       "      <th></th>\n",
       "      <th></th>\n",
       "    </tr>\n",
       "  </thead>\n",
       "  <tbody>\n",
       "    <tr>\n",
       "      <th>1999</th>\n",
       "      <td>NaN</td>\n",
       "      <td>NaN</td>\n",
       "      <td>NaN</td>\n",
       "      <td>NaN</td>\n",
       "      <td>NaN</td>\n",
       "      <td>NaN</td>\n",
       "      <td>NaN</td>\n",
       "      <td>NaN</td>\n",
       "      <td>NaN</td>\n",
       "      <td>NaN</td>\n",
       "      <td>...</td>\n",
       "      <td>NaN</td>\n",
       "      <td>NaN</td>\n",
       "      <td>NaN</td>\n",
       "      <td>NaN</td>\n",
       "      <td>13.0</td>\n",
       "      <td>NaN</td>\n",
       "      <td>NaN</td>\n",
       "      <td>NaN</td>\n",
       "      <td>NaN</td>\n",
       "      <td>NaN</td>\n",
       "    </tr>\n",
       "    <tr>\n",
       "      <th>2000</th>\n",
       "      <td>NaN</td>\n",
       "      <td>NaN</td>\n",
       "      <td>NaN</td>\n",
       "      <td>NaN</td>\n",
       "      <td>NaN</td>\n",
       "      <td>NaN</td>\n",
       "      <td>5.0</td>\n",
       "      <td>NaN</td>\n",
       "      <td>NaN</td>\n",
       "      <td>NaN</td>\n",
       "      <td>...</td>\n",
       "      <td>NaN</td>\n",
       "      <td>NaN</td>\n",
       "      <td>NaN</td>\n",
       "      <td>NaN</td>\n",
       "      <td>26.0</td>\n",
       "      <td>NaN</td>\n",
       "      <td>NaN</td>\n",
       "      <td>NaN</td>\n",
       "      <td>NaN</td>\n",
       "      <td>NaN</td>\n",
       "    </tr>\n",
       "    <tr>\n",
       "      <th>2001</th>\n",
       "      <td>NaN</td>\n",
       "      <td>NaN</td>\n",
       "      <td>NaN</td>\n",
       "      <td>NaN</td>\n",
       "      <td>NaN</td>\n",
       "      <td>NaN</td>\n",
       "      <td>NaN</td>\n",
       "      <td>NaN</td>\n",
       "      <td>11.0</td>\n",
       "      <td>NaN</td>\n",
       "      <td>...</td>\n",
       "      <td>NaN</td>\n",
       "      <td>NaN</td>\n",
       "      <td>NaN</td>\n",
       "      <td>NaN</td>\n",
       "      <td>14.0</td>\n",
       "      <td>NaN</td>\n",
       "      <td>NaN</td>\n",
       "      <td>NaN</td>\n",
       "      <td>NaN</td>\n",
       "      <td>NaN</td>\n",
       "    </tr>\n",
       "    <tr>\n",
       "      <th>2002</th>\n",
       "      <td>NaN</td>\n",
       "      <td>NaN</td>\n",
       "      <td>NaN</td>\n",
       "      <td>NaN</td>\n",
       "      <td>NaN</td>\n",
       "      <td>NaN</td>\n",
       "      <td>NaN</td>\n",
       "      <td>NaN</td>\n",
       "      <td>19.0</td>\n",
       "      <td>NaN</td>\n",
       "      <td>...</td>\n",
       "      <td>NaN</td>\n",
       "      <td>NaN</td>\n",
       "      <td>NaN</td>\n",
       "      <td>NaN</td>\n",
       "      <td>28.0</td>\n",
       "      <td>3.0</td>\n",
       "      <td>NaN</td>\n",
       "      <td>NaN</td>\n",
       "      <td>NaN</td>\n",
       "      <td>NaN</td>\n",
       "    </tr>\n",
       "    <tr>\n",
       "      <th>2003</th>\n",
       "      <td>NaN</td>\n",
       "      <td>NaN</td>\n",
       "      <td>NaN</td>\n",
       "      <td>NaN</td>\n",
       "      <td>NaN</td>\n",
       "      <td>NaN</td>\n",
       "      <td>NaN</td>\n",
       "      <td>NaN</td>\n",
       "      <td>3.0</td>\n",
       "      <td>NaN</td>\n",
       "      <td>...</td>\n",
       "      <td>NaN</td>\n",
       "      <td>NaN</td>\n",
       "      <td>NaN</td>\n",
       "      <td>NaN</td>\n",
       "      <td>32.0</td>\n",
       "      <td>5.0</td>\n",
       "      <td>NaN</td>\n",
       "      <td>NaN</td>\n",
       "      <td>NaN</td>\n",
       "      <td>NaN</td>\n",
       "    </tr>\n",
       "  </tbody>\n",
       "</table>\n",
       "<p>5 rows × 22 columns</p>\n",
       "</div>"
      ],
      "text/plain": [
       "parent_theme  Angry Birds  Avatar  Ben 10  Cars  Disney  Disney Princess  \\\n",
       "year                                                                       \n",
       "1999                  NaN     NaN     NaN   NaN     NaN              NaN   \n",
       "2000                  NaN     NaN     NaN   NaN     NaN              NaN   \n",
       "2001                  NaN     NaN     NaN   NaN     NaN              NaN   \n",
       "2002                  NaN     NaN     NaN   NaN     NaN              NaN   \n",
       "2003                  NaN     NaN     NaN   NaN     NaN              NaN   \n",
       "\n",
       "parent_theme  Disney's Mickey Mouse  Ghostbusters  Harry Potter  \\\n",
       "year                                                              \n",
       "1999                            NaN           NaN           NaN   \n",
       "2000                            5.0           NaN           NaN   \n",
       "2001                            NaN           NaN          11.0   \n",
       "2002                            NaN           NaN          19.0   \n",
       "2003                            NaN           NaN           3.0   \n",
       "\n",
       "parent_theme  Indiana Jones  ...  Pirates of the Caribbean  Prince of Persia  \\\n",
       "year                         ...                                               \n",
       "1999                    NaN  ...                       NaN               NaN   \n",
       "2000                    NaN  ...                       NaN               NaN   \n",
       "2001                    NaN  ...                       NaN               NaN   \n",
       "2002                    NaN  ...                       NaN               NaN   \n",
       "2003                    NaN  ...                       NaN               NaN   \n",
       "\n",
       "parent_theme  Scooby-Doo  SpongeBob SquarePants  Star Wars  Super Heroes  \\\n",
       "year                                                                       \n",
       "1999                 NaN                    NaN       13.0           NaN   \n",
       "2000                 NaN                    NaN       26.0           NaN   \n",
       "2001                 NaN                    NaN       14.0           NaN   \n",
       "2002                 NaN                    NaN       28.0           3.0   \n",
       "2003                 NaN                    NaN       32.0           5.0   \n",
       "\n",
       "parent_theme  Teenage Mutant Ninja Turtles  The Hobbit and Lord of the Rings  \\\n",
       "year                                                                           \n",
       "1999                                   NaN                               NaN   \n",
       "2000                                   NaN                               NaN   \n",
       "2001                                   NaN                               NaN   \n",
       "2002                                   NaN                               NaN   \n",
       "2003                                   NaN                               NaN   \n",
       "\n",
       "parent_theme  The Lone Ranger  Toy Story  \n",
       "year                                      \n",
       "1999                      NaN        NaN  \n",
       "2000                      NaN        NaN  \n",
       "2001                      NaN        NaN  \n",
       "2002                      NaN        NaN  \n",
       "2003                      NaN        NaN  \n",
       "\n",
       "[5 rows x 22 columns]"
      ]
     },
     "execution_count": 76,
     "metadata": {},
     "output_type": "execute_result"
    }
   ],
   "source": [
    "# Create a pivot table of sets released by theme per year\n",
    "licensed_pivot = lego_cleaned.pivot_table(index='year', columns='parent_theme', values='set_num', aggfunc='count')\n",
    "licensed_pivot.head()"
   ]
  },
  {
   "cell_type": "code",
   "execution_count": 77,
   "id": "e9a97959",
   "metadata": {},
   "outputs": [
    {
     "data": {
      "text/plain": [
       "year\n",
       "2016    61.0\n",
       "2015    58.0\n",
       "2017    55.0\n",
       "2014    45.0\n",
       "2012    43.0\n",
       "2009    39.0\n",
       "2013    35.0\n",
       "2003    32.0\n",
       "2011    32.0\n",
       "2010    30.0\n",
       "2002    28.0\n",
       "2005    28.0\n",
       "2000    26.0\n",
       "2008    23.0\n",
       "2004    20.0\n",
       "2007    16.0\n",
       "2001    14.0\n",
       "1999    13.0\n",
       "2006    11.0\n",
       "Name: Star Wars, dtype: float64"
      ]
     },
     "execution_count": 77,
     "metadata": {},
     "output_type": "execute_result"
    }
   ],
   "source": [
    "# Find the year when the most Star Wars sets were released\n",
    "licensed_pivot.sort_values(by=\"Star Wars\", ascending=False)[\"Star Wars\"]"
   ]
  },
  {
   "cell_type": "code",
   "execution_count": null,
   "id": "d458afb7",
   "metadata": {},
   "outputs": [
    {
     "name": "stdout",
     "output_type": "stream",
     "text": [
      "The year when the most Star Wars sets were released was 2015.\n"
     ]
    }
   ],
   "source": [
    "new_era = 2016\n",
    "print(f'The year when the most Star Wars sets were released was {new_era}.')"
   ]
  }
 ],
 "metadata": {
  "kernelspec": {
   "display_name": "base",
   "language": "python",
   "name": "python3"
  },
  "language_info": {
   "codemirror_mode": {
    "name": "ipython",
    "version": 3
   },
   "file_extension": ".py",
   "mimetype": "text/x-python",
   "name": "python",
   "nbconvert_exporter": "python",
   "pygments_lexer": "ipython3",
   "version": "3.11.5"
  }
 },
 "nbformat": 4,
 "nbformat_minor": 5
}
