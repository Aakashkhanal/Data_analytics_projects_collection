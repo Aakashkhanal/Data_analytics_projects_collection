{
 "cells": [
  {
   "cell_type": "code",
   "execution_count": 2,
   "id": "30f20bd3",
   "metadata": {},
   "outputs": [],
   "source": [
    "# python_functions.py\n",
    "\n",
    "def validate_name(name):\n",
    "    return len(name.strip()) > 2\n",
    "\n",
    "def validate_email(email):\n",
    "    import re\n",
    "    return re.match(r\"[^@]+@[^@]+\\.[^@]+\", email) is not None\n",
    "\n",
    "def validate_password(password):\n",
    "    import re\n",
    "    return (len(password) > 8 and\n",
    "            re.search(r\"[A-Z]\", password) and\n",
    "            re.search(r\"\\d\", password))"
   ]
  },
  {
   "cell_type": "code",
   "execution_count": 3,
   "id": "6f18b2f1",
   "metadata": {},
   "outputs": [],
   "source": [
    "\n",
    "def validate_user(name, email, password):\n",
    "\n",
    "    if validate_name(name) == False:\n",
    "        raise ValueError(\"Please make sure your name is greater than 2 characters!\")\n",
    "    \n",
    "    if validate_email(email) == False:\n",
    "        raise ValueError('Your email address is in the incorrect format, please enter a valid email.')\n",
    "\n",
    "    if validate_password(password) == False:\n",
    "        raise ValueError(\"Your password is too weak, ensure that your password is greater than 8 characters, \"\n",
    "                         \"contains a capital letter and a number.\")\n",
    "    \n",
    "    return True\n",
    "\n",
    "\n"
   ]
  },
  {
   "cell_type": "code",
   "execution_count": 5,
   "id": "20b01fcb",
   "metadata": {},
   "outputs": [],
   "source": [
    "def register_user(name, email, password):\n",
    "    try:\n",
    "        validate_user(name, email, password)\n",
    "    except:\n",
    "        return False\n",
    "\n",
    "    user = {\n",
    "    \"name\" : name,\n",
    "    \"email\" : email,\n",
    "    \"password\": password\n",
    "        }\n",
    "\n",
    "    return user\n",
    "\n",
    "\n",
    "        "
   ]
  },
  {
   "cell_type": "code",
   "execution_count": null,
   "id": "c6eaa965",
   "metadata": {},
   "outputs": [],
   "source": []
  },
  {
   "cell_type": "code",
   "execution_count": null,
   "id": "6dba116a",
   "metadata": {},
   "outputs": [],
   "source": []
  },
  {
   "cell_type": "code",
   "execution_count": null,
   "id": "6c174967",
   "metadata": {},
   "outputs": [],
   "source": []
  },
  {
   "cell_type": "code",
   "execution_count": null,
   "id": "f9a873c7",
   "metadata": {},
   "outputs": [],
   "source": []
  },
  {
   "cell_type": "code",
   "execution_count": null,
   "id": "7d7b5c21",
   "metadata": {},
   "outputs": [],
   "source": []
  }
 ],
 "metadata": {
  "kernelspec": {
   "display_name": "base",
   "language": "python",
   "name": "python3"
  },
  "language_info": {
   "codemirror_mode": {
    "name": "ipython",
    "version": 3
   },
   "file_extension": ".py",
   "mimetype": "text/x-python",
   "name": "python",
   "nbconvert_exporter": "python",
   "pygments_lexer": "ipython3",
   "version": "3.11.5"
  }
 },
 "nbformat": 4,
 "nbformat_minor": 5
}
